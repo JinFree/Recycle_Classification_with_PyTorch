{
  "nbformat": 4,
  "nbformat_minor": 0,
  "metadata": {
    "colab": {
      "name": "PyTorch_Recycle_Classification_Colab.ipynb",
      "provenance": [],
      "collapsed_sections": [],
      "authorship_tag": "ABX9TyOcpyrgaSyohFcn8CxNxic9",
      "include_colab_link": true
    },
    "kernelspec": {
      "name": "python3",
      "display_name": "Python 3"
    },
    "accelerator": "GPU"
  },
  "cells": [
    {
      "cell_type": "markdown",
      "metadata": {
        "id": "view-in-github",
        "colab_type": "text"
      },
      "source": [
        "<a href=\"https://colab.research.google.com/github/JinFree/Recycle_Classification_with_PyTorch/blob/main/PyTorch_Recycle_Classification_Colab.ipynb\" target=\"_parent\"><img src=\"https://colab.research.google.com/assets/colab-badge.svg\" alt=\"Open In Colab\"/></a>"
      ]
    },
    {
      "cell_type": "markdown",
      "metadata": {
        "id": "sHJ7DZs4w47x"
      },
      "source": [
        "우선 데이터셋을 다운로드합니다."
      ]
    },
    {
      "cell_type": "code",
      "metadata": {
        "id": "PcYCWnHmcGZ7",
        "colab": {
          "base_uri": "https://localhost:8080/"
        },
        "outputId": "fe3aa02b-20e7-4eb5-9d57-c80505ec3eef"
      },
      "source": [
        "print(Download Dataset)\n",
        "!git clone https://github.com/JinFree/Recycle_Classification_Dataset.git\n",
        "!rm -rf ./Recycle_Classification_Dataset/ .git"
      ],
      "execution_count": 2,
      "outputs": [
        {
          "output_type": "stream",
          "text": [
            "Cloning into 'Recycle_Classification_Dataset'...\n",
            "remote: Enumerating objects: 9442, done.\u001b[K\n",
            "remote: Total 9442 (delta 0), reused 0 (delta 0), pack-reused 9442\u001b[K\n",
            "Receiving objects: 100% (9442/9442), 6.87 GiB | 45.28 MiB/s, done.\n",
            "Resolving deltas: 100% (14/14), done.\n",
            "Checking out files: 100% (9417/9417), done.\n"
          ],
          "name": "stdout"
        }
      ]
    },
    {
      "cell_type": "markdown",
      "metadata": {
        "id": "kESNVsD5w93-"
      },
      "source": [
        "그 다음 훈련을 위한 깃헙 저장소를 다운로드합니다."
      ]
    },
    {
      "cell_type": "code",
      "metadata": {
        "id": "4I97OkyPxB7x"
      },
      "source": [
        "print(Download Example Repository)\n",
        "!git clone https://github.com/JinFree/Recycle_Classification_with_PyTorch"
      ],
      "execution_count": null,
      "outputs": []
    },
    {
      "cell_type": "markdown",
      "metadata": {
        "id": "eXfcVj3vxRJS"
      },
      "source": [
        "훈련을 위한 클래스를 불러옵니다."
      ]
    },
    {
      "cell_type": "code",
      "metadata": {
        "id": "AhzX5PIvslVo"
      },
      "source": [
        "from Recycle_Classification_with_PyTorch.Training_Class import PyTorch_Classification_Training_Class\n",
        "training_class = PyTorch_Classification_Training_Class()"
      ],
      "execution_count": 1,
      "outputs": []
    },
    {
      "cell_type": "markdown",
      "metadata": {
        "id": "WcBjqSiuxUta"
      },
      "source": [
        "우선 임의 제작한 네트워크 구조를 활용하여 처음부터 훈련합니다.\n",
        "네트워크 구조는 Model_Class_From_the_Scratch.py 파일을 통해 확인할 수 있습니다."
      ]
    },
    {
      "cell_type": "code",
      "metadata": {
        "colab": {
          "base_uri": "https://localhost:8080/"
        },
        "id": "2bIvDJJIuL7_",
        "outputId": "e3f3de72-5833-4795-c479-88dfc9bccad2"
      },
      "source": [
        "print(\"Learning from scratch\")\n",
        "training_class.prepare_network(True)\n",
        "training_class.training_network(learning_rate = 0.0001, epochs=10, step_size=3, gamma=0.3)"
      ],
      "execution_count": 2,
      "outputs": [
        {
          "output_type": "stream",
          "text": [
            "100%|██████████| 442/442 [08:47<00:00,  1.19s/it]\n",
            "100%|██████████| 148/148 [02:56<00:00,  1.19s/it]\n",
            "  0%|          | 0/442 [00:00<?, ?it/s]"
          ],
          "name": "stderr"
        },
        {
          "output_type": "stream",
          "text": [
            "[1] Test Loss: 1.2212, Accuracy: 52.10%\n",
            "model saved!\n"
          ],
          "name": "stdout"
        },
        {
          "output_type": "stream",
          "text": [
            "100%|██████████| 442/442 [08:50<00:00,  1.20s/it]\n",
            "100%|██████████| 148/148 [02:55<00:00,  1.19s/it]\n",
            "  0%|          | 0/442 [00:00<?, ?it/s]"
          ],
          "name": "stderr"
        },
        {
          "output_type": "stream",
          "text": [
            "[2] Test Loss: 1.1998, Accuracy: 53.72%\n",
            "model saved!\n"
          ],
          "name": "stdout"
        },
        {
          "output_type": "stream",
          "text": [
            "100%|██████████| 442/442 [08:40<00:00,  1.18s/it]\n",
            "100%|██████████| 148/148 [02:53<00:00,  1.17s/it]\n",
            "  0%|          | 0/442 [00:00<?, ?it/s]"
          ],
          "name": "stderr"
        },
        {
          "output_type": "stream",
          "text": [
            "[3] Test Loss: 1.1774, Accuracy: 55.37%\n",
            "model saved!\n"
          ],
          "name": "stdout"
        },
        {
          "output_type": "stream",
          "text": [
            "100%|██████████| 442/442 [08:36<00:00,  1.17s/it]\n",
            "100%|██████████| 148/148 [02:53<00:00,  1.17s/it]\n",
            "  0%|          | 0/442 [00:00<?, ?it/s]"
          ],
          "name": "stderr"
        },
        {
          "output_type": "stream",
          "text": [
            "[4] Test Loss: 1.1608, Accuracy: 57.62%\n",
            "model saved!\n"
          ],
          "name": "stdout"
        },
        {
          "output_type": "stream",
          "text": [
            "100%|██████████| 442/442 [08:32<00:00,  1.16s/it]\n",
            "100%|██████████| 148/148 [02:52<00:00,  1.17s/it]\n",
            "  0%|          | 0/442 [00:00<?, ?it/s]"
          ],
          "name": "stderr"
        },
        {
          "output_type": "stream",
          "text": [
            "[5] Test Loss: 1.1505, Accuracy: 58.47%\n",
            "model saved!\n"
          ],
          "name": "stdout"
        },
        {
          "output_type": "stream",
          "text": [
            "100%|██████████| 442/442 [08:33<00:00,  1.16s/it]\n",
            "100%|██████████| 148/148 [02:50<00:00,  1.15s/it]\n",
            "  0%|          | 0/442 [00:00<?, ?it/s]"
          ],
          "name": "stderr"
        },
        {
          "output_type": "stream",
          "text": [
            "[6] Test Loss: 1.1558, Accuracy: 58.56%\n",
            "model saved!\n"
          ],
          "name": "stdout"
        },
        {
          "output_type": "stream",
          "text": [
            "100%|██████████| 442/442 [08:19<00:00,  1.13s/it]\n",
            "100%|██████████| 148/148 [02:46<00:00,  1.12s/it]\n",
            "  0%|          | 0/442 [00:00<?, ?it/s]"
          ],
          "name": "stderr"
        },
        {
          "output_type": "stream",
          "text": [
            "[7] Test Loss: 1.1458, Accuracy: 59.28%\n",
            "model saved!\n"
          ],
          "name": "stdout"
        },
        {
          "output_type": "stream",
          "text": [
            "100%|██████████| 442/442 [08:26<00:00,  1.15s/it]\n",
            "100%|██████████| 148/148 [02:54<00:00,  1.18s/it]\n",
            "  0%|          | 0/442 [00:00<?, ?it/s]"
          ],
          "name": "stderr"
        },
        {
          "output_type": "stream",
          "text": [
            "[8] Test Loss: 1.1411, Accuracy: 59.87%\n",
            "model saved!\n"
          ],
          "name": "stdout"
        },
        {
          "output_type": "stream",
          "text": [
            "100%|██████████| 442/442 [08:37<00:00,  1.17s/it]\n",
            "100%|██████████| 148/148 [02:55<00:00,  1.19s/it]\n",
            "  0%|          | 0/442 [00:00<?, ?it/s]"
          ],
          "name": "stderr"
        },
        {
          "output_type": "stream",
          "text": [
            "[9] Test Loss: 1.1394, Accuracy: 59.41%\n"
          ],
          "name": "stdout"
        },
        {
          "output_type": "stream",
          "text": [
            "100%|██████████| 442/442 [08:49<00:00,  1.20s/it]\n",
            "100%|██████████| 148/148 [02:53<00:00,  1.17s/it]"
          ],
          "name": "stderr"
        },
        {
          "output_type": "stream",
          "text": [
            "[10] Test Loss: 1.1362, Accuracy: 60.55%\n",
            "model saved!\n"
          ],
          "name": "stdout"
        },
        {
          "output_type": "stream",
          "text": [
            "\n"
          ],
          "name": "stderr"
        }
      ]
    },
    {
      "cell_type": "markdown",
      "metadata": {
        "id": "X8cD2Hr2xk_c"
      },
      "source": [
        "다음은 ImageNet의 천 개 클래스의 백만 장 이미지로 학습한 MobileNetv2 네트워크를 전이학습합니다.\n",
        "MobileNetv2 네트워크의 마지막 레이어의 출력 노드 수를 우리가 구분하고자 하는 클래스 수에 맞게 수정한 후 학습하며, 코드는 Model_Class_Transfer_Learning_MobileNet.py에서 확인할 수 있습니다."
      ]
    },
    {
      "cell_type": "code",
      "metadata": {
        "colab": {
          "base_uri": "https://localhost:8080/"
        },
        "id": "9HcSYrRhwJUp",
        "outputId": "0b460d06-b68d-4591-e39c-3a3b89509625"
      },
      "source": [
        "print(\"Transfer learning\")\n",
        "training_class.prepare_network(False)\n",
        "training_class.training_network(learning_rate = 0.00001, epochs=5, step_size=3, gamma=0.3)"
      ],
      "execution_count": null,
      "outputs": [
        {
          "output_type": "stream",
          "text": [
            "Transfer l?earning\n"
          ],
          "name": "stdout"
        },
        {
          "output_type": "stream",
          "text": [
            "100%|██████████| 442/442 [09:01<00:00,  1.23s/it]\n",
            "100%|██████████| 148/148 [02:52<00:00,  1.17s/it]\n",
            "  0%|          | 0/442 [00:00<?, ?it/s]"
          ],
          "name": "stderr"
        },
        {
          "output_type": "stream",
          "text": [
            "[1] Test Loss: 0.9292, Accuracy: 83.18%\n",
            "model saved!\n"
          ],
          "name": "stdout"
        },
        {
          "output_type": "stream",
          "text": [
            "100%|██████████| 442/442 [09:18<00:00,  1.26s/it]\n",
            "100%|██████████| 148/148 [03:00<00:00,  1.22s/it]\n",
            "  0%|          | 0/442 [00:00<?, ?it/s]"
          ],
          "name": "stderr"
        },
        {
          "output_type": "stream",
          "text": [
            "[2] Test Loss: 0.8358, Accuracy: 93.84%\n",
            "model saved!\n"
          ],
          "name": "stdout"
        },
        {
          "output_type": "stream",
          "text": [
            "100%|██████████| 442/442 [09:25<00:00,  1.28s/it]\n",
            "100%|██████████| 148/148 [03:01<00:00,  1.23s/it]\n",
            "  0%|          | 0/442 [00:00<?, ?it/s]"
          ],
          "name": "stderr"
        },
        {
          "output_type": "stream",
          "text": [
            "[3] Test Loss: 0.8036, Accuracy: 95.63%\n",
            "model saved!\n"
          ],
          "name": "stdout"
        },
        {
          "output_type": "stream",
          "text": [
            "100%|██████████| 442/442 [09:33<00:00,  1.30s/it]\n",
            "100%|██████████| 148/148 [03:01<00:00,  1.22s/it]\n",
            "  0%|          | 0/442 [00:00<?, ?it/s]"
          ],
          "name": "stderr"
        },
        {
          "output_type": "stream",
          "text": [
            "[4] Test Loss: 0.7999, Accuracy: 96.05%\n",
            "model saved!\n"
          ],
          "name": "stdout"
        },
        {
          "output_type": "stream",
          "text": [
            " 25%|██▌       | 111/442 [02:20<07:24,  1.34s/it]"
          ],
          "name": "stderr"
        }
      ]
    },
    {
      "cell_type": "markdown",
      "metadata": {
        "id": "yLBv36tWx9z0"
      },
      "source": [
        "모든 학습이 끝나면 label_map.txt와 PyTorch_Training_From_Scratch.pt, PyTorch_Transfer_Learning_MobileNet.pt 파일을 다운로드합니다."
      ]
    },
    {
      "cell_type": "code",
      "metadata": {
        "id": "kalSWybQwvw4"
      },
      "source": [
        ""
      ],
      "execution_count": null,
      "outputs": []
    }
  ]
}